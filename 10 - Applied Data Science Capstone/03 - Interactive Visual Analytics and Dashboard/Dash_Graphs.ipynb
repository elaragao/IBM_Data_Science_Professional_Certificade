{
 "cells": [
  {
   "cell_type": "code",
   "execution_count": 3,
   "id": "00566e61",
   "metadata": {},
   "outputs": [],
   "source": [
    "# Import required libraries\n",
    "import pandas as pd\n",
    "import numpy as np\n",
    "import dash\n",
    "#import dash_html_components as html\n",
    "import dash_html_components as html\n",
    "from dash import dcc\n",
    "from dash.dependencies import Input, Output\n",
    "import plotly.express as px"
   ]
  },
  {
   "cell_type": "code",
   "execution_count": 4,
   "id": "0919774d",
   "metadata": {},
   "outputs": [],
   "source": [
    "# Read the airline data into pandas dataframe\n",
    "spacex_df = pd.read_csv(\"spacex_launch_dash.csv\")\n",
    "max_payload = spacex_df['Payload Mass (kg)'].max()\n",
    "min_payload = spacex_df['Payload Mass (kg)'].min()"
   ]
  },
  {
   "cell_type": "code",
   "execution_count": 5,
   "id": "8a817ae3",
   "metadata": {},
   "outputs": [
    {
     "data": {
      "text/html": [
       "<div>\n",
       "<style scoped>\n",
       "    .dataframe tbody tr th:only-of-type {\n",
       "        vertical-align: middle;\n",
       "    }\n",
       "\n",
       "    .dataframe tbody tr th {\n",
       "        vertical-align: top;\n",
       "    }\n",
       "\n",
       "    .dataframe thead th {\n",
       "        text-align: right;\n",
       "    }\n",
       "</style>\n",
       "<table border=\"1\" class=\"dataframe\">\n",
       "  <thead>\n",
       "    <tr style=\"text-align: right;\">\n",
       "      <th></th>\n",
       "      <th>Launch Site</th>\n",
       "      <th>class</th>\n",
       "    </tr>\n",
       "  </thead>\n",
       "  <tbody>\n",
       "    <tr>\n",
       "      <th>0</th>\n",
       "      <td>CCAFS LC-40</td>\n",
       "      <td>7</td>\n",
       "    </tr>\n",
       "    <tr>\n",
       "      <th>1</th>\n",
       "      <td>CCAFS SLC-40</td>\n",
       "      <td>3</td>\n",
       "    </tr>\n",
       "    <tr>\n",
       "      <th>2</th>\n",
       "      <td>KSC LC-39A</td>\n",
       "      <td>10</td>\n",
       "    </tr>\n",
       "    <tr>\n",
       "      <th>3</th>\n",
       "      <td>VAFB SLC-4E</td>\n",
       "      <td>4</td>\n",
       "    </tr>\n",
       "  </tbody>\n",
       "</table>\n",
       "</div>"
      ],
      "text/plain": [
       "    Launch Site  class\n",
       "0   CCAFS LC-40      7\n",
       "1  CCAFS SLC-40      3\n",
       "2    KSC LC-39A     10\n",
       "3   VAFB SLC-4E      4"
      ]
     },
     "execution_count": 5,
     "metadata": {},
     "output_type": "execute_result"
    }
   ],
   "source": [
    "filtered_df = spacex_df.groupby('Launch Site')['class'].sum().reset_index()\n",
    "filtered_df"
   ]
  },
  {
   "cell_type": "code",
   "execution_count": 6,
   "id": "d87fc050",
   "metadata": {},
   "outputs": [
    {
     "data": {
      "text/plain": [
       "Index(['Unnamed: 0', 'Flight Number', 'Launch Site', 'class',\n",
       "       'Payload Mass (kg)', 'Booster Version', 'Booster Version Category'],\n",
       "      dtype='object')"
      ]
     },
     "execution_count": 6,
     "metadata": {},
     "output_type": "execute_result"
    }
   ],
   "source": [
    "spacex_df.columns"
   ]
  },
  {
   "cell_type": "code",
   "execution_count": 7,
   "id": "62202df4",
   "metadata": {
    "scrolled": true
   },
   "outputs": [
    {
     "data": {
      "text/plain": [
       "[{'label': 'All Sites', 'value': 'ALL'},\n",
       " {'label': 'CCAFS LC-40', 'value': 'CCAFS LC-40'},\n",
       " {'label': 'VAFB SLC-4E', 'value': 'VAFB SLC-4E'},\n",
       " {'label': 'KSC LC-39A', 'value': 'KSC LC-39A'},\n",
       " {'label': 'CCAFS SLC-40', 'value': 'CCAFS SLC-40'}]"
      ]
     },
     "execution_count": 7,
     "metadata": {},
     "output_type": "execute_result"
    }
   ],
   "source": [
    "# Task 1 Dropdown List\n",
    "launch_list = []\n",
    "launch_list.append({'label': 'All Sites', 'value': 'ALL'})\n",
    "for site in spacex_df['Launch Site'].unique():\n",
    "    launch_list.append({'label': site, 'value': site})\n",
    "    \n",
    "launch_list"
   ]
  },
  {
   "cell_type": "code",
   "execution_count": 8,
   "id": "bf126d65",
   "metadata": {},
   "outputs": [
    {
     "data": {
      "text/html": [
       "\n",
       "        <iframe\n",
       "            width=\"100%\"\n",
       "            height=\"650\"\n",
       "            src=\"http://127.0.0.1:8050/\"\n",
       "            frameborder=\"0\"\n",
       "            allowfullscreen\n",
       "            \n",
       "        ></iframe>\n",
       "        "
      ],
      "text/plain": [
       "<IPython.lib.display.IFrame at 0x299d64aac40>"
      ]
     },
     "metadata": {},
     "output_type": "display_data"
    }
   ],
   "source": [
    "# Create a dash application\n",
    "app = dash.Dash(__name__)\n",
    "\n",
    "# Create an app layout\n",
    "app.layout = html.Div(\n",
    "    children=[\n",
    "        html.H1('SpaceX Launch Records Dashboard',\n",
    "                style={'textAlign': 'center', \n",
    "                       'color': '#503D36', \n",
    "                       'font-size': 40}),\n",
    "        \n",
    "    #####################################################################\n",
    "    # TASK 1: Add a dropdown list to enable Launch Site selection\n",
    "    # The default select value is for ALL sites\n",
    "    # dcc.Dropdown(id='site-dropdown',...)\n",
    "    #####################################################################\n",
    "        html.Br(),\n",
    "        dcc.Dropdown(\n",
    "            id = 'site-dropdown',\n",
    "            options = launch_list, \n",
    "            value = 'ALL',\n",
    "            placeholder = \"Select a Launch Site here\",\n",
    "            searchable = True\n",
    "        ),\n",
    "        \n",
    "    ###########################################################################################\n",
    "    # TASK 2: Add a pie chart to show the total successful launches count for all sites\n",
    "    # If a specific launch site was selected, show the Success vs. Failed counts for the site\n",
    "    ###########################################################################################\n",
    "\n",
    "        html.Div(dcc.Graph(id='success-pie-chart')),\n",
    "        html.Br(),\n",
    "\n",
    "        html.P(\"Payload range (Kg):\"),\n",
    "    ############################################### \n",
    "    # TASK 3: Add a slider to select payload range\n",
    "    # dcc.RangeSlider(id='payload-slider',...)\n",
    "    ###############################################  \n",
    "        dcc.RangeSlider(\n",
    "            id = 'payload-slider',\n",
    "            min=0, max=10000, step=1000,\n",
    "            marks = {str(int(i)): int(i) for i in np.linspace(0, 10000, 11)},\n",
    "            value = [min_payload, max_payload]\n",
    "        ),\n",
    "        \n",
    "    ########################################################################################\n",
    "    # TASK 4: Add a scatter chart to show the correlation between payload and launch success\n",
    "    ########################################################################################\n",
    "\n",
    "\n",
    "        # TASK 4: Add a scatter chart to show the correlation between payload and launch success\n",
    "        html.Div(dcc.Graph(id='success-payload-scatter-chart')),\n",
    "        ])\n",
    "\n",
    "# TASK 2:\n",
    "# Add a callback function for `site-dropdown` as input, `success-pie-chart` as output\n",
    "@app.callback(Output(component_id='success-pie-chart', component_property='figure'),\n",
    "              Input(component_id='site-dropdown', component_property='value'))\n",
    "def get_pie_chart(entered_site):\n",
    "    filtered_df = spacex_df[spacex_df['Launch Site'] == entered_site]\n",
    "    site_df = filtered_df.groupby(['Launch Site', 'class']).size().reset_index(name='count')\n",
    "    \n",
    "    if entered_site == 'ALL':\n",
    "        fig = px.pie(\n",
    "            spacex_df, \n",
    "            values='class', \n",
    "            names='Launch Site', \n",
    "            title='Total Success Launches for Sites'\n",
    "        )\n",
    "        return fig\n",
    "    else:\n",
    "        fig = px.pie(\n",
    "            site_df, \n",
    "            values = 'count', \n",
    "            names = 'class', \n",
    "            title = f'Total Success Launches for Site {entered_site}'\n",
    "        )\n",
    "        return fig\n",
    "        # return the outcomes piechart for a selected site\n",
    "\n",
    "\n",
    "\n",
    "\n",
    "\n",
    "# TASK 4:\n",
    "# Add a callback function for `site-dropdown` and `payload-slider` as inputs, `success-payload-scatter-chart` as output\n",
    "@app.callback(Output(component_id='success-payload-scatter-chart', component_property='figure'),\n",
    "              [Input(component_id='site-dropdown', component_property='value'), \n",
    "               Input(component_id=\"payload-slider\", component_property=\"value\")])\n",
    "def update_output_container(entered_site, payload_slide):\n",
    "    filtered_df = spacex_df[spacex_df['Launch Site'] == entered_site]\n",
    "    low, high = payload_slide\n",
    "    mask = (spacex_df['Payload Mass (kg)'] >= low) & (spacex_df['Payload Mass (kg)'] <= high)\n",
    "    mask_filter = (filtered_df['Payload Mass (kg)'] >= low) & (filtered_df['Payload Mass (kg)'] <= high)\n",
    "\n",
    "                            \n",
    "    if entered_site == 'ALL':\n",
    "        fig = px.scatter(\n",
    "            spacex_df[mask], \n",
    "            x='Payload Mass (kg)', \n",
    "            y='class', \n",
    "            color=\"Booster Version Category\",\n",
    "            title='Correlation between Payload and Success for all Sites in Payload Range {} kg - {} kg'.format(int(low),int(high))\n",
    "        )\n",
    "        return fig\n",
    "    else:\n",
    "        fig = px.scatter(\n",
    "            filtered_df[mask_filter],  \n",
    "            x='Payload Mass (kg)', \n",
    "            y='class', \n",
    "            color=\"Booster Version Category\",\n",
    "            title='Correlation between Payload and Success for site {} in Payload Range {} kg - {} kg'.format(entered_site,int(low),int(high))\n",
    "        )\n",
    "        return fig\n",
    "            \n",
    "    \n",
    "    \n",
    "    \n",
    "\n",
    "# Run the app\n",
    "if __name__ == '__main__':\n",
    "    app.run_server()"
   ]
  },
  {
   "cell_type": "code",
   "execution_count": null,
   "id": "f1f7a353",
   "metadata": {},
   "outputs": [],
   "source": []
  }
 ],
 "metadata": {
  "kernelspec": {
   "display_name": "Python 3 (ipykernel)",
   "language": "python",
   "name": "python3"
  },
  "language_info": {
   "codemirror_mode": {
    "name": "ipython",
    "version": 3
   },
   "file_extension": ".py",
   "mimetype": "text/x-python",
   "name": "python",
   "nbconvert_exporter": "python",
   "pygments_lexer": "ipython3",
   "version": "3.9.12"
  }
 },
 "nbformat": 4,
 "nbformat_minor": 5
}
