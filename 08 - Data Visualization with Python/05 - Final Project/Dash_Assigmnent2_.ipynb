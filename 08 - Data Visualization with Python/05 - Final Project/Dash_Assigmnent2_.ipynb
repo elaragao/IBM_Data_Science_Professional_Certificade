{
 "cells": [
  {
   "cell_type": "code",
   "execution_count": 1,
   "id": "146a4b5f",
   "metadata": {},
   "outputs": [],
   "source": [
    "import dash\n",
    "from dash import dcc, html\n",
    "from dash.dependencies import Input, Output\n",
    "import pandas as pd\n",
    "import plotly.express as px\n",
    "\n",
    "# Load the data using pandas\n",
    "data = pd.read_csv('https://cf-courses-data.s3.us.cloud-object-storage.appdomain.cloud/IBMDeveloperSkillsNetwork-DV0101EN-SkillsNetwork/Data%20Files/historical_automobile_sales.csv')\n",
    "\n"
   ]
  },
  {
   "cell_type": "code",
   "execution_count": 11,
   "id": "6649bd72",
   "metadata": {},
   "outputs": [
    {
     "data": {
      "text/html": [
       "\n",
       "        <iframe\n",
       "            width=\"100%\"\n",
       "            height=\"650\"\n",
       "            src=\"http://127.0.0.1:7040/\"\n",
       "            frameborder=\"0\"\n",
       "            allowfullscreen\n",
       "            \n",
       "        ></iframe>\n",
       "        "
      ],
      "text/plain": [
       "<IPython.lib.display.IFrame at 0x215b504d5b0>"
      ]
     },
     "metadata": {},
     "output_type": "display_data"
    }
   ],
   "source": [
    "\n",
    "# Initialize the Dash app\n",
    "app = dash.Dash(__name__)\n",
    "\n",
    "# List of years\n",
    "year_list = [i for i in range(1980, 2024, 1)]\n",
    "\n",
    "# Create the layout of the app\n",
    "app.layout = html.Div([\n",
    "    \n",
    "    html.H1(\"Automobile Statistics Dashboard\",\n",
    "            style={'textAlign': 'center', 'color': '#503D36'}),\n",
    "    \n",
    "    html.Div([\n",
    "        \n",
    "        html.Div(\n",
    "            html.Label(\"Select Statistics:\",\n",
    "                   style={ 'color': 'white','font-weight': 'bold','font': '18px Arial, Helvetica, sans-serif'}\n",
    "                   ),\n",
    "            style={'width': '60%','height':'30px','margin-left':'50px','padding':'15px'}\n",
    "\n",
    "        ),\n",
    "\n",
    "        dcc.Dropdown(\n",
    "            id='select-statistics',\n",
    "            options = [\n",
    "                {'label': 'Yearly Statistics', 'value': 'Yearly Statistics'},\n",
    "                {'label': 'Recession Period Statistics', 'value': 'Recession Period Statistics'}\n",
    "            ],\n",
    "            value = 'Yearly Statistics',\n",
    "            placeholder = 'Select Statistics',\n",
    "            style = { 'font-weight': 'bold', 'font': '18px Arial, Helvetica, sans-serif'}\n",
    "        )\n",
    "    ]),\n",
    "    \n",
    "    html.Div(dcc.Dropdown(\n",
    "            id = 'select-year',\n",
    "            options = [{'label': i, 'value': i} for i in year_list],\n",
    "            value = 1980\n",
    "        )),\n",
    "    \n",
    "    html.Div([\n",
    "        html.Div(id = 'output-container', \n",
    "                 className = 'output-container', \n",
    "                 style = {'width': '100%','margin':'auto', 'display': 'inline-block'}),\n",
    "    ])\n",
    "    \n",
    "])\n",
    "\n",
    "@app.callback(\n",
    "    Output(component_id='select-year', component_property='disabled'),\n",
    "    Input(component_id='select-statistics', component_property='value'))\n",
    "def update_input_container(selected_statistics):\n",
    "    if selected_statistics == 'Yearly Statistics':\n",
    "        return False\n",
    "    else:\n",
    "        return True\n",
    "\n",
    "@app.callback(\n",
    "    Output(component_id='output-container', component_property='children'),\n",
    "    [Input(component_id='select-statistics', component_property='value'),\n",
    "    Input(component_id='select-year', component_property='value')])\n",
    "\n",
    "def update_output_container(selected_statistics, input_year):\n",
    "    if selected_statistics == 'Recession Period Statistics':\n",
    "        recession_data = data[data['Recession'] == 1]\n",
    "\n",
    "        # Example plot: Change this according to your specific needs\n",
    "        plot1 = px.line(recession_data, x='Year', y='Automobile_Sales', title='Automobile Sales Over the Years During Recession')\n",
    "\n",
    "        return [\n",
    "            dcc.Graph(figure=plot1)\n",
    "        ]\n",
    "    elif input_year and selected_statistics == 'Yearly Statistics':\n",
    "        yearly_data = data[data['Year'] == input_year]\n",
    "\n",
    "        # Example plot: Change this according to your specific needs\n",
    "        plot2 = px.bar(yearly_data, x='Month', y='Automobile_Sales', title=f'Automobile Sales in {input_year}')\n",
    "\n",
    "        return [\n",
    "            dcc.Graph(figure=plot2)\n",
    "        ]\n",
    "    else:\n",
    "        return None\n",
    "\n",
    "if __name__ == '__main__':\n",
    "    app.run_server(mode='inline',port=7040)"
   ]
  },
  {
   "cell_type": "code",
   "execution_count": 3,
   "id": "44f50b9e",
   "metadata": {},
   "outputs": [
    {
     "data": {
      "text/plain": [
       "[1980,\n",
       " 1981,\n",
       " 1982,\n",
       " 1983,\n",
       " 1984,\n",
       " 1985,\n",
       " 1986,\n",
       " 1987,\n",
       " 1988,\n",
       " 1989,\n",
       " 1990,\n",
       " 1991,\n",
       " 1992,\n",
       " 1993,\n",
       " 1994,\n",
       " 1995,\n",
       " 1996,\n",
       " 1997,\n",
       " 1998,\n",
       " 1999,\n",
       " 2000,\n",
       " 2001,\n",
       " 2002,\n",
       " 2003,\n",
       " 2004,\n",
       " 2005,\n",
       " 2006,\n",
       " 2007,\n",
       " 2008,\n",
       " 2009,\n",
       " 2010,\n",
       " 2011,\n",
       " 2012,\n",
       " 2013,\n",
       " 2014,\n",
       " 2015,\n",
       " 2016,\n",
       " 2017,\n",
       " 2018,\n",
       " 2019,\n",
       " 2020,\n",
       " 2021,\n",
       " 2022,\n",
       " 2023]"
      ]
     },
     "execution_count": 3,
     "metadata": {},
     "output_type": "execute_result"
    }
   ],
   "source": [
    "year_list"
   ]
  },
  {
   "cell_type": "code",
   "execution_count": 4,
   "id": "d5f7ad72",
   "metadata": {},
   "outputs": [
    {
     "data": {
      "text/plain": [
       "Date                        object\n",
       "Year                         int64\n",
       "Month                       object\n",
       "Recession                    int64\n",
       "Consumer_Confidence        float64\n",
       "Seasonality_Weight         float64\n",
       "Price                      float64\n",
       "Advertising_Expenditure      int64\n",
       "Competition                  int64\n",
       "GDP                        float64\n",
       "Growth_Rate                float64\n",
       "unemployment_rate          float64\n",
       "Automobile_Sales           float64\n",
       "Vehicle_Type                object\n",
       "City                        object\n",
       "dtype: object"
      ]
     },
     "execution_count": 4,
     "metadata": {},
     "output_type": "execute_result"
    }
   ],
   "source": [
    "data.dtypes"
   ]
  }
 ],
 "metadata": {
  "kernelspec": {
   "display_name": "Python 3 (ipykernel)",
   "language": "python",
   "name": "python3"
  },
  "language_info": {
   "codemirror_mode": {
    "name": "ipython",
    "version": 3
   },
   "file_extension": ".py",
   "mimetype": "text/x-python",
   "name": "python",
   "nbconvert_exporter": "python",
   "pygments_lexer": "ipython3",
   "version": "3.9.12"
  }
 },
 "nbformat": 4,
 "nbformat_minor": 5
}
